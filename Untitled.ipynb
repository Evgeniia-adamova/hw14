{
 "cells": [
  {
   "cell_type": "code",
   "execution_count": 2,
   "id": "382816af-ff42-47b8-9254-6811dd7bc70e",
   "metadata": {
    "tags": []
   },
   "outputs": [],
   "source": [
    "def sum_of_digits(n):\n",
    "    if n == 0:\n",
    "        return 0\n",
    "    return n % 10 + sum_of_digits(n // 10)"
   ]
  },
  {
   "cell_type": "code",
   "execution_count": 3,
   "id": "8caa2b37-8b23-47df-a2bd-81d9770d8a0e",
   "metadata": {
    "tags": []
   },
   "outputs": [
    {
     "name": "stdout",
     "output_type": "stream",
     "text": [
      "92\n"
     ]
    }
   ],
   "source": [
    "n = 1983718947864287\n",
    "print(sum_of_digits(n))"
   ]
  },
  {
   "cell_type": "code",
   "execution_count": 7,
   "id": "57f3703d-7b77-4e5a-b213-90738dc3629c",
   "metadata": {
    "tags": []
   },
   "outputs": [],
   "source": [
    "def sum_to_n(n):\n",
    "    if n == 0:\n",
    "        return 0\n",
    "    return n + sum_to_n(n - 1)"
   ]
  },
  {
   "cell_type": "code",
   "execution_count": 9,
   "id": "8f579637-a90a-47d9-9175-e22e00cda050",
   "metadata": {
    "tags": []
   },
   "outputs": [
    {
     "name": "stdout",
     "output_type": "stream",
     "text": [
      "190\n"
     ]
    }
   ],
   "source": [
    "n = 19\n",
    "print(sum_to_n(n))"
   ]
  },
  {
   "cell_type": "code",
   "execution_count": null,
   "id": "89a3b17c-e4dd-446f-854b-eb3a8f98c429",
   "metadata": {
    "tags": []
   },
   "outputs": [],
   "source": [
    "def fib_function(n):\n",
    "    if n == 0:\n",
    "        return 0\n",
    "    elif n == 1:\n",
    "        return 1\n",
    "    else:\n",
    "        return fib_function(n - 1) + fib_function(n - 2)"
   ]
  },
  {
   "cell_type": "code",
   "execution_count": null,
   "id": "05048b26-2b09-4c30-9b3c-628453467993",
   "metadata": {
    "tags": []
   },
   "outputs": [],
   "source": [
    "n = 5\n",
    "print(fib_function(n))"
   ]
  }
 ],
 "metadata": {
  "kernelspec": {
   "display_name": "Python 3 (ipykernel)",
   "language": "python",
   "name": "python3"
  },
  "language_info": {
   "codemirror_mode": {
    "name": "ipython",
    "version": 3
   },
   "file_extension": ".py",
   "mimetype": "text/x-python",
   "name": "python",
   "nbconvert_exporter": "python",
   "pygments_lexer": "ipython3",
   "version": "3.10.8"
  }
 },
 "nbformat": 4,
 "nbformat_minor": 5
}
